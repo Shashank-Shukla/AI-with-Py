{
 "cells": [
  {
   "cell_type": "code",
   "execution_count": 16,
   "metadata": {},
   "outputs": [],
   "source": [
    "import cv2\n",
    "import numpy as np\n",
    "import time\n",
    "\n",
    "fc=cv2.CascadeClassifier('haarcascade_frontalface_default.xml')\n",
    "fe=cv2.CascadeClassifier('haarcascade_eye.xml')\n",
    "if fc.empty():\n",
    "    raise IOError('Unable to load face cascade file')\n",
    "if fe.empty():\n",
    "    raise IOError('Unable to load eye cascade file')\n",
    "cap=cv2.VideoCapture(\"head-pose-face-detection-male.mp4\")\n",
    "dsfactor=0.5\n",
    "while True:\n",
    "    ret,frame=cap.read()\n",
    "    frame=cv2.resize(frame,None,fx=dsfactor,fy=dsfactor,interpolation=cv2.INTER_AREA)\n",
    "    gray=cv2.cvtColor(frame,cv2.COLOR_BGR2GRAY)\n",
    "    faces=fc.detectMultiScale(gray,1.3,5)\n",
    "    #cv2.imshow(frame)\n",
    "    for(x,y,w,h) in faces:\n",
    "        roigray=gray[y:y+h,x:x+w]\n",
    "        roicolor=frame[y:y+h,x:x+w]\n",
    "        eye=fe.detectMultiScale(roigray)\n",
    "        for(xi,yi,wi,hi) in eye:\n",
    "            centre=(int(xi+0.5*wi),int(yi+0.5*hi))\n",
    "            radius=int(0.3*(wi+hi))\n",
    "            color=(150,200,225)\n",
    "            thickness=1\n",
    "            cv2.circle(roicolor,centre,radius,color,thickness)\n",
    "        cv2.rectangle(frame,(x,y),(x+w,y+h),color)\n",
    "        cv2.imshow('Eye Detector',frame)\n",
    "        time.sleep(0.04)\n",
    "    \n",
    "    if cv2.waitKey(1) & 0xFF==ord('z'):\n",
    "        break\n",
    "cap.release()\n",
    "cv2.destroyAllWindows()"
   ]
  },
  {
   "cell_type": "code",
   "execution_count": 3,
   "metadata": {},
   "outputs": [
    {
     "data": {
      "text/plain": [
       "'C:\\\\Users\\\\16BIS0178'"
      ]
     },
     "execution_count": 3,
     "metadata": {},
     "output_type": "execute_result"
    }
   ],
   "source": [
    "pwd"
   ]
  },
  {
   "cell_type": "code",
   "execution_count": 2,
   "metadata": {},
   "outputs": [
    {
     "name": "stdout",
     "output_type": "stream",
     "text": [
      "C:\\Users\\16BIS0178\\Downloads\n"
     ]
    }
   ],
   "source": [
    "cd C:\\Users\\16BIS0178\\Downloads"
   ]
  },
  {
   "cell_type": "code",
   "execution_count": 5,
   "metadata": {},
   "outputs": [
    {
     "data": {
      "text/plain": [
       "'C:\\\\Users\\\\16BIS0178\\\\Downloads'"
      ]
     },
     "execution_count": 5,
     "metadata": {},
     "output_type": "execute_result"
    }
   ],
   "source": [
    "pwd"
   ]
  },
  {
   "cell_type": "code",
   "execution_count": 4,
   "metadata": {},
   "outputs": [
    {
     "name": "stdout",
     "output_type": "stream",
     "text": [
      " Volume in drive C has no label.\n",
      " Volume Serial Number is 8482-C211\n",
      "\n",
      " Directory of C:\\Users\\16BIS0178\\Downloads\n",
      "\n",
      "09/18/2019  02:16 PM    <DIR>          .\n",
      "09/18/2019  02:16 PM    <DIR>          ..\n",
      "09/04/2019  02:25 PM    <DIR>          __pycache__\n",
      "09/04/2019  03:19 PM            17,674 data_imbalance.txt\n",
      "09/04/2019  02:21 PM            10,645 data_random_forests.txt\n",
      "09/18/2019  02:16 PM           506,314 haarcascade_eye.xml\n",
      "09/18/2019  02:16 PM         1,254,733 haarcascade_frontalface_default.xml\n",
      "09/18/2019  02:16 PM         1,585,210 haarcascade_mcs_nose.xml\n",
      "09/18/2019  02:16 PM        15,522,596 head-pose-face-detection-male.mp4\n",
      "09/04/2019  03:10 PM           217,116 RandomForestClassifier.ipynb\n",
      "09/04/2019  02:25 PM             1,441 utilities.py\n",
      "               8 File(s)     19,115,729 bytes\n",
      "               3 Dir(s)   6,186,307,584 bytes free\n"
     ]
    }
   ],
   "source": [
    "ls"
   ]
  },
  {
   "cell_type": "code",
   "execution_count": 7,
   "metadata": {},
   "outputs": [
    {
     "name": "stdout",
     "output_type": "stream",
     "text": [
      "\n",
      "The following command must be run outside of the IPython shell:\n",
      "\n",
      "    $ pip search cv2\n",
      "\n",
      "The Python package manager (pip) can only be used from outside of IPython.\n",
      "Please reissue the `pip` command in a separate terminal or command prompt.\n",
      "\n",
      "See the Python documentation for more information on how to install packages:\n",
      "\n",
      "    https://docs.python.org/3/installing/\n"
     ]
    }
   ],
   "source": [
    "pip search cv2"
   ]
  },
  {
   "cell_type": "code",
   "execution_count": 15,
   "metadata": {},
   "outputs": [
    {
     "data": {
      "text/plain": [
       "0.04"
      ]
     },
     "execution_count": 15,
     "metadata": {},
     "output_type": "execute_result"
    }
   ],
   "source": [
    "1/25"
   ]
  },
  {
   "cell_type": "code",
   "execution_count": null,
   "metadata": {},
   "outputs": [],
   "source": []
  }
 ],
 "metadata": {
  "kernelspec": {
   "display_name": "Python 3",
   "language": "python",
   "name": "python3"
  },
  "language_info": {
   "codemirror_mode": {
    "name": "ipython",
    "version": 3
   },
   "file_extension": ".py",
   "mimetype": "text/x-python",
   "name": "python",
   "nbconvert_exporter": "python",
   "pygments_lexer": "ipython3",
   "version": "3.7.1"
  }
 },
 "nbformat": 4,
 "nbformat_minor": 2
}
