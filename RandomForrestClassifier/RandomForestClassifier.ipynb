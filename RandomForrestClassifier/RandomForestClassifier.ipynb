import numpy as np
import matplotlib.pyplot as plt
from sklearn.metrics import classification_report as cr
from sklearn.ensemble import RandomForestClassifier as rfc
from sklearn.ensemble import ExtraTreesClassifier as etc
from sklearn.model_selection import cross_validate as cv
from sklearn.model_selection import train_test_split as tts
from sklearn.metrics import classification_report as cr
from utilities import visualize_classifier as vc

classifierType=input('Please enter the classifier type: ')
df=np.loadtxt('data_random_forests.txt',delimiter=',')
X,y = df[:,:-1],df[:,-1]
c0=np.array(X[y==0])
c1=np.array(X[y==1])
c2=np.array(X[y==2])
plt.figure()
plt.scatter(c0[:,0],c0[:,1],s=50,facecolor='yellow',edgecolor='black',marker='s')
plt.scatter(c1[:,0],c1[:,1],s=50,facecolor='red',edgecolor='green',marker='^')
plt.scatter(c2[:,0],c2[:,1],s=50,facecolor='black',edgecolor='cyan',marker='*')
plt.title('Scatter Plot of the data')
plt.xlabel('X-axis')
plt.ylabel('Y-Axis')
xtrain,xtest,ytrain,ytest=tts(X,y,test_size=0.25,random_state=5)
parameters={'n_estimators':100,'max_depth':5,'random_state':0}
if classifierType == 'rf':
    classifier=rfc(**parameters)
else:
    classifier=etc(**parameters)
classifier.fit(xtrain,ytrain)
vc(classifier,xtrain,ytrain,'Training dataset')
ytestpred=classifier.predict(xtest)
vc(classifier,xtest,ytest,'Test dataset')
cNames=['Class-0','Class-1','Class-2']
print("\n Perf training dataset {}".format(cr(ytrain,classifier.predict(xtrain),target_names=cNames)))
print("\n Perf testing dataset {}".format(cr(ytest,ytestpred,target_names=cNames)))
test_datapoints=np.array([[10,10],[3,6],[6,4],[7,2],[4,4],[5,2]])
print("\n Confidence measure: ")
for i in test_datapoints:
    prob=classifier.predict_proba([i])[0]
    predclass='Class'+str(np.argmax(prob))
    print("\n\nDatapoints: {} \nPredicted Class: {}\nProbability: {} ".format(i,predclass,prob))
vc(classifier,test_datapoints,[0]*len(test_datapoints))
plt.show()
